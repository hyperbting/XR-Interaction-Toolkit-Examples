{
 "cells": [
  {
   "cell_type": "code",
   "execution_count": 1,
   "id": "extraordinary-border",
   "metadata": {},
   "outputs": [],
   "source": [
    "import torch\n",
    "import torch.nn as nn\n",
    "import torch.nn.functional as F\n",
    "from torch.utils.tensorboard import SummaryWriter\n",
    "\n",
    "import copy \n",
    "from tqdm import tqdm\n",
    "import os\n",
    "import json\n",
    "import sys \n",
    "\n",
    "sys.path.extend(['..'])\n",
    "from utils import Config\n",
    "# from model import LSTMRegressor\n",
    "from data import LSTMCSVDataset\n",
    "from datetime import datetime"
   ]
  },
  {
   "cell_type": "code",
   "execution_count": 2,
   "id": "4150e05e",
   "metadata": {},
   "outputs": [],
   "source": [
    "class LSTMRegressor(nn.Module):\n",
    "    def __init__(self, input_size, output_size):\n",
    "        super(LSTMRegressor,self).__init__()\n",
    "        self.input_size = input_size\n",
    "        self.output_size = output_size\n",
    "\n",
    "        self.lstm_1 = nn.LSTM(self.input_size, 100, batch_first=True)\n",
    "        self.fc1 = nn.Linear(1000, 512)\n",
    "        self.bn2 = nn.BatchNorm1d(512)\n",
    "        self.fc2 = nn.Linear(512, 256)\n",
    "        self.bn3 = nn.BatchNorm1d(256)\n",
    "        self.fc3 = nn.Linear(256, 64)\n",
    "        self.bn4 = nn.BatchNorm1d(64)\n",
    "        self.fc4 = nn.Linear(64, output_size)\n",
    "        self.h1 = self.init_hidden(batch_size=Config['batch_size'],device='cuda:0')\n",
    "\n",
    "    def init_hidden(self, batch_size, device='cpu'):\n",
    "        return (torch.zeros(1, batch_size , 100).to(device), torch.zeros(1, batch_size , 100).to(device))\n",
    "    \n",
    "    def forward(self, x, device='cpu'):\n",
    "        out, self.h1 = self.lstm_1(x, self.h1)\n",
    "        print(out.shape)\n",
    "        out = out.reshape(out.shape[0],-1)\n",
    "        print(out.shape)\n",
    "        out = nn.Tanh()(self.bn2(self.fc1(out)))\n",
    "        out = nn.Tanh()(self.bn3(self.fc2(out)))\n",
    "        out = nn.Tanh()(self.bn4(self.fc3(out)))\n",
    "        out = nn.Tanh()(self.fc4(out))\n",
    "#         print(out.shape)\n",
    "        return out"
   ]
  },
  {
   "cell_type": "code",
   "execution_count": 3,
   "id": "occupied-dodge",
   "metadata": {},
   "outputs": [],
   "source": [
    "dataset = LSTMCSVDataset(root_path='../'+Config['dataset_path'])"
   ]
  },
  {
   "cell_type": "code",
   "execution_count": 4,
   "id": "united-president",
   "metadata": {},
   "outputs": [
    {
     "data": {
      "text/plain": [
       "(tensor([[ 0.9726, -0.9970, -0.0219, -0.0623, -0.9998, -0.0237,  0.2762, -0.2747,\n",
       "          -0.9950,  0.1136, -0.2030,  0.9797, -0.0073, -0.0710, -0.2577, -0.9945,\n",
       "          -0.0314,  0.0967,  0.9872],\n",
       "         [ 0.9725, -0.9970, -0.0214, -0.0626, -0.9998, -0.0245,  0.2751, -0.2734,\n",
       "          -0.9950,  0.1134, -0.2005,  0.9790, -0.0080, -0.0715, -0.2572, -0.9945,\n",
       "          -0.0310,  0.0958,  0.9873],\n",
       "         [ 0.9724, -0.9970, -0.0209, -0.0626, -0.9998, -0.0249,  0.2733, -0.2721,\n",
       "          -0.9951,  0.1114, -0.1945,  0.9787, -0.0086, -0.0722, -0.2567, -0.9945,\n",
       "          -0.0305,  0.0953,  0.9874],\n",
       "         [ 0.9722, -0.9971, -0.0205, -0.0627, -0.9998, -0.0251,  0.2728, -0.2707,\n",
       "          -0.9951,  0.1075, -0.1895,  0.9788, -0.0093, -0.0728, -0.2560, -0.9945,\n",
       "          -0.0300,  0.0949,  0.9875],\n",
       "         [ 0.9720, -0.9971, -0.0200, -0.0627, -0.9998, -0.0256,  0.2729, -0.2696,\n",
       "          -0.9952,  0.1025, -0.1858,  0.9794, -0.0098, -0.0735, -0.2556, -0.9945,\n",
       "          -0.0296,  0.0947,  0.9875],\n",
       "         [ 0.9719, -0.9971, -0.0195, -0.0629, -0.9998, -0.0258,  0.2743, -0.2693,\n",
       "          -0.9951,  0.0969, -0.1855,  0.9804, -0.0102, -0.0743, -0.2550, -0.9945,\n",
       "          -0.0293,  0.0948,  0.9875],\n",
       "         [ 0.9718, -0.9971, -0.0190, -0.0631, -0.9998, -0.0268,  0.2772, -0.2689,\n",
       "          -0.9951,  0.0916, -0.1908,  0.9812, -0.0107, -0.0751, -0.2545, -0.9945,\n",
       "          -0.0288,  0.0949,  0.9875],\n",
       "         [ 0.9716, -0.9971, -0.0186, -0.0633, -0.9998, -0.0276,  0.2807, -0.2691,\n",
       "          -0.9951,  0.0909, -0.2034,  0.9807, -0.0110, -0.0757, -0.2540, -0.9945,\n",
       "          -0.0284,  0.0949,  0.9875],\n",
       "         [ 0.9716, -0.9971, -0.0182, -0.0634, -0.9998, -0.0293,  0.2841, -0.2687,\n",
       "          -0.9950,  0.0913, -0.2172,  0.9797, -0.0115, -0.0764, -0.2535, -0.9945,\n",
       "          -0.0278,  0.0944,  0.9876],\n",
       "         [ 0.9716, -0.9971, -0.0179, -0.0635, -0.9998, -0.0317,  0.2873, -0.2685,\n",
       "          -0.9950,  0.0936, -0.2303,  0.9783, -0.0119, -0.0769, -0.2530, -0.9945,\n",
       "          -0.0274,  0.0940,  0.9877]]),\n",
       " tensor([[-0.0701,  0.7588,  0.3960, -0.9980, -0.0390, -0.1026, -0.9991],\n",
       "         [-0.0705,  0.7584,  0.3962, -0.9980, -0.0392, -0.1026, -0.9991],\n",
       "         [-0.0707,  0.7576,  0.3966, -0.9980, -0.0392, -0.1024, -0.9991],\n",
       "         [-0.0709,  0.7571,  0.3970, -0.9980, -0.0395, -0.1024, -0.9991],\n",
       "         [-0.0710,  0.7566,  0.3973, -0.9980, -0.0396, -0.1023, -0.9991],\n",
       "         [-0.0711,  0.7560,  0.3977, -0.9980, -0.0397, -0.1023, -0.9991],\n",
       "         [-0.0712,  0.7557,  0.3981, -0.9980, -0.0397, -0.1024, -0.9991],\n",
       "         [-0.0713,  0.7553,  0.3985, -0.9980, -0.0397, -0.1024, -0.9991],\n",
       "         [-0.0714,  0.7553,  0.3989, -0.9980, -0.0396, -0.1023, -0.9991],\n",
       "         [-0.0714,  0.7553,  0.3993, -0.9980, -0.0394, -0.1021, -0.9991]]))"
      ]
     },
     "execution_count": 4,
     "metadata": {},
     "output_type": "execute_result"
    }
   ],
   "source": [
    "dataset[0][0], dataset[0][1]"
   ]
  },
  {
   "cell_type": "code",
   "execution_count": 5,
   "id": "consolidated-retreat",
   "metadata": {},
   "outputs": [],
   "source": [
    "model = LSTMRegressor(input_size=19, output_size=7)"
   ]
  },
  {
   "cell_type": "code",
   "execution_count": 6,
   "id": "considered-vancouver",
   "metadata": {
    "scrolled": true
   },
   "outputs": [
    {
     "data": {
      "text/plain": [
       "<All keys matched successfully>"
      ]
     },
     "execution_count": 6,
     "metadata": {},
     "output_type": "execute_result"
    }
   ],
   "source": [
    "model.load_state_dict(torch.load(r'C:\\Users\\CSCI-538-HP-Z240-lll\\Desktop\\UnityProjects\\XR-Interaction-Toolkit-Examples\\ML\\models\\lstm_alldata_run12_euler\\checkpoints\\model_999.pth'))"
   ]
  },
  {
   "cell_type": "code",
   "execution_count": 7,
   "id": "cc17a088",
   "metadata": {},
   "outputs": [],
   "source": [
    "model.h1 = model.init_hidden(batch_size=1, device='cpu')"
   ]
  },
  {
   "cell_type": "code",
   "execution_count": 8,
   "id": "changed-sugar",
   "metadata": {},
   "outputs": [
    {
     "name": "stdout",
     "output_type": "stream",
     "text": [
      "torch.Size([1, 10, 100])\n",
      "torch.Size([1, 1000])\n"
     ]
    },
    {
     "ename": "ValueError",
     "evalue": "Expected more than 1 value per channel when training, got input size torch.Size([1, 512])",
     "output_type": "error",
     "traceback": [
      "\u001b[1;31m---------------------------------------------------------------------------\u001b[0m",
      "\u001b[1;31mValueError\u001b[0m                                Traceback (most recent call last)",
      "\u001b[1;32m<ipython-input-8-68f74ebfafc3>\u001b[0m in \u001b[0;36m<module>\u001b[1;34m\u001b[0m\n\u001b[1;32m----> 1\u001b[1;33m \u001b[0mmodel\u001b[0m\u001b[1;33m.\u001b[0m\u001b[0mforward\u001b[0m\u001b[1;33m(\u001b[0m\u001b[0mdataset\u001b[0m\u001b[1;33m[\u001b[0m\u001b[1;36m0\u001b[0m\u001b[1;33m]\u001b[0m\u001b[1;33m[\u001b[0m\u001b[1;36m0\u001b[0m\u001b[1;33m]\u001b[0m\u001b[1;33m.\u001b[0m\u001b[0munsqueeze\u001b[0m\u001b[1;33m(\u001b[0m\u001b[1;36m0\u001b[0m\u001b[1;33m)\u001b[0m\u001b[1;33m)\u001b[0m\u001b[1;33m\u001b[0m\u001b[1;33m\u001b[0m\u001b[0m\n\u001b[0m",
      "\u001b[1;32m<ipython-input-2-24eef94fc05e>\u001b[0m in \u001b[0;36mforward\u001b[1;34m(self, x, device)\u001b[0m\n\u001b[0;32m     23\u001b[0m         \u001b[0mout\u001b[0m \u001b[1;33m=\u001b[0m \u001b[0mout\u001b[0m\u001b[1;33m.\u001b[0m\u001b[0mreshape\u001b[0m\u001b[1;33m(\u001b[0m\u001b[0mout\u001b[0m\u001b[1;33m.\u001b[0m\u001b[0mshape\u001b[0m\u001b[1;33m[\u001b[0m\u001b[1;36m0\u001b[0m\u001b[1;33m]\u001b[0m\u001b[1;33m,\u001b[0m\u001b[1;33m-\u001b[0m\u001b[1;36m1\u001b[0m\u001b[1;33m)\u001b[0m\u001b[1;33m\u001b[0m\u001b[1;33m\u001b[0m\u001b[0m\n\u001b[0;32m     24\u001b[0m         \u001b[0mprint\u001b[0m\u001b[1;33m(\u001b[0m\u001b[0mout\u001b[0m\u001b[1;33m.\u001b[0m\u001b[0mshape\u001b[0m\u001b[1;33m)\u001b[0m\u001b[1;33m\u001b[0m\u001b[1;33m\u001b[0m\u001b[0m\n\u001b[1;32m---> 25\u001b[1;33m         \u001b[0mout\u001b[0m \u001b[1;33m=\u001b[0m \u001b[0mnn\u001b[0m\u001b[1;33m.\u001b[0m\u001b[0mTanh\u001b[0m\u001b[1;33m(\u001b[0m\u001b[1;33m)\u001b[0m\u001b[1;33m(\u001b[0m\u001b[0mself\u001b[0m\u001b[1;33m.\u001b[0m\u001b[0mbn2\u001b[0m\u001b[1;33m(\u001b[0m\u001b[0mself\u001b[0m\u001b[1;33m.\u001b[0m\u001b[0mfc1\u001b[0m\u001b[1;33m(\u001b[0m\u001b[0mout\u001b[0m\u001b[1;33m)\u001b[0m\u001b[1;33m)\u001b[0m\u001b[1;33m)\u001b[0m\u001b[1;33m\u001b[0m\u001b[1;33m\u001b[0m\u001b[0m\n\u001b[0m\u001b[0;32m     26\u001b[0m         \u001b[0mout\u001b[0m \u001b[1;33m=\u001b[0m \u001b[0mnn\u001b[0m\u001b[1;33m.\u001b[0m\u001b[0mTanh\u001b[0m\u001b[1;33m(\u001b[0m\u001b[1;33m)\u001b[0m\u001b[1;33m(\u001b[0m\u001b[0mself\u001b[0m\u001b[1;33m.\u001b[0m\u001b[0mbn3\u001b[0m\u001b[1;33m(\u001b[0m\u001b[0mself\u001b[0m\u001b[1;33m.\u001b[0m\u001b[0mfc2\u001b[0m\u001b[1;33m(\u001b[0m\u001b[0mout\u001b[0m\u001b[1;33m)\u001b[0m\u001b[1;33m)\u001b[0m\u001b[1;33m)\u001b[0m\u001b[1;33m\u001b[0m\u001b[1;33m\u001b[0m\u001b[0m\n\u001b[0;32m     27\u001b[0m         \u001b[0mout\u001b[0m \u001b[1;33m=\u001b[0m \u001b[0mnn\u001b[0m\u001b[1;33m.\u001b[0m\u001b[0mTanh\u001b[0m\u001b[1;33m(\u001b[0m\u001b[1;33m)\u001b[0m\u001b[1;33m(\u001b[0m\u001b[0mself\u001b[0m\u001b[1;33m.\u001b[0m\u001b[0mbn4\u001b[0m\u001b[1;33m(\u001b[0m\u001b[0mself\u001b[0m\u001b[1;33m.\u001b[0m\u001b[0mfc3\u001b[0m\u001b[1;33m(\u001b[0m\u001b[0mout\u001b[0m\u001b[1;33m)\u001b[0m\u001b[1;33m)\u001b[0m\u001b[1;33m)\u001b[0m\u001b[1;33m\u001b[0m\u001b[1;33m\u001b[0m\u001b[0m\n",
      "\u001b[1;32mc:\\users\\csci-538-hp-z240-lll\\desktop\\unityprojects\\xr-interaction-toolkit-examples\\venv\\lib\\site-packages\\torch\\nn\\modules\\module.py\u001b[0m in \u001b[0;36m_call_impl\u001b[1;34m(self, *input, **kwargs)\u001b[0m\n\u001b[0;32m    887\u001b[0m             \u001b[0mresult\u001b[0m \u001b[1;33m=\u001b[0m \u001b[0mself\u001b[0m\u001b[1;33m.\u001b[0m\u001b[0m_slow_forward\u001b[0m\u001b[1;33m(\u001b[0m\u001b[1;33m*\u001b[0m\u001b[0minput\u001b[0m\u001b[1;33m,\u001b[0m \u001b[1;33m**\u001b[0m\u001b[0mkwargs\u001b[0m\u001b[1;33m)\u001b[0m\u001b[1;33m\u001b[0m\u001b[1;33m\u001b[0m\u001b[0m\n\u001b[0;32m    888\u001b[0m         \u001b[1;32melse\u001b[0m\u001b[1;33m:\u001b[0m\u001b[1;33m\u001b[0m\u001b[1;33m\u001b[0m\u001b[0m\n\u001b[1;32m--> 889\u001b[1;33m             \u001b[0mresult\u001b[0m \u001b[1;33m=\u001b[0m \u001b[0mself\u001b[0m\u001b[1;33m.\u001b[0m\u001b[0mforward\u001b[0m\u001b[1;33m(\u001b[0m\u001b[1;33m*\u001b[0m\u001b[0minput\u001b[0m\u001b[1;33m,\u001b[0m \u001b[1;33m**\u001b[0m\u001b[0mkwargs\u001b[0m\u001b[1;33m)\u001b[0m\u001b[1;33m\u001b[0m\u001b[1;33m\u001b[0m\u001b[0m\n\u001b[0m\u001b[0;32m    890\u001b[0m         for hook in itertools.chain(\n\u001b[0;32m    891\u001b[0m                 \u001b[0m_global_forward_hooks\u001b[0m\u001b[1;33m.\u001b[0m\u001b[0mvalues\u001b[0m\u001b[1;33m(\u001b[0m\u001b[1;33m)\u001b[0m\u001b[1;33m,\u001b[0m\u001b[1;33m\u001b[0m\u001b[1;33m\u001b[0m\u001b[0m\n",
      "\u001b[1;32mc:\\users\\csci-538-hp-z240-lll\\desktop\\unityprojects\\xr-interaction-toolkit-examples\\venv\\lib\\site-packages\\torch\\nn\\modules\\batchnorm.py\u001b[0m in \u001b[0;36mforward\u001b[1;34m(self, input)\u001b[0m\n\u001b[0;32m    133\u001b[0m         \u001b[1;32massert\u001b[0m \u001b[0mself\u001b[0m\u001b[1;33m.\u001b[0m\u001b[0mrunning_mean\u001b[0m \u001b[1;32mis\u001b[0m \u001b[1;32mNone\u001b[0m \u001b[1;32mor\u001b[0m \u001b[0misinstance\u001b[0m\u001b[1;33m(\u001b[0m\u001b[0mself\u001b[0m\u001b[1;33m.\u001b[0m\u001b[0mrunning_mean\u001b[0m\u001b[1;33m,\u001b[0m \u001b[0mtorch\u001b[0m\u001b[1;33m.\u001b[0m\u001b[0mTensor\u001b[0m\u001b[1;33m)\u001b[0m\u001b[1;33m\u001b[0m\u001b[1;33m\u001b[0m\u001b[0m\n\u001b[0;32m    134\u001b[0m         \u001b[1;32massert\u001b[0m \u001b[0mself\u001b[0m\u001b[1;33m.\u001b[0m\u001b[0mrunning_var\u001b[0m \u001b[1;32mis\u001b[0m \u001b[1;32mNone\u001b[0m \u001b[1;32mor\u001b[0m \u001b[0misinstance\u001b[0m\u001b[1;33m(\u001b[0m\u001b[0mself\u001b[0m\u001b[1;33m.\u001b[0m\u001b[0mrunning_var\u001b[0m\u001b[1;33m,\u001b[0m \u001b[0mtorch\u001b[0m\u001b[1;33m.\u001b[0m\u001b[0mTensor\u001b[0m\u001b[1;33m)\u001b[0m\u001b[1;33m\u001b[0m\u001b[1;33m\u001b[0m\u001b[0m\n\u001b[1;32m--> 135\u001b[1;33m         return F.batch_norm(\n\u001b[0m\u001b[0;32m    136\u001b[0m             \u001b[0minput\u001b[0m\u001b[1;33m,\u001b[0m\u001b[1;33m\u001b[0m\u001b[1;33m\u001b[0m\u001b[0m\n\u001b[0;32m    137\u001b[0m             \u001b[1;31m# If buffers are not to be tracked, ensure that they won't be updated\u001b[0m\u001b[1;33m\u001b[0m\u001b[1;33m\u001b[0m\u001b[1;33m\u001b[0m\u001b[0m\n",
      "\u001b[1;32mc:\\users\\csci-538-hp-z240-lll\\desktop\\unityprojects\\xr-interaction-toolkit-examples\\venv\\lib\\site-packages\\torch\\nn\\functional.py\u001b[0m in \u001b[0;36mbatch_norm\u001b[1;34m(input, running_mean, running_var, weight, bias, training, momentum, eps)\u001b[0m\n\u001b[0;32m   2145\u001b[0m         )\n\u001b[0;32m   2146\u001b[0m     \u001b[1;32mif\u001b[0m \u001b[0mtraining\u001b[0m\u001b[1;33m:\u001b[0m\u001b[1;33m\u001b[0m\u001b[1;33m\u001b[0m\u001b[0m\n\u001b[1;32m-> 2147\u001b[1;33m         \u001b[0m_verify_batch_size\u001b[0m\u001b[1;33m(\u001b[0m\u001b[0minput\u001b[0m\u001b[1;33m.\u001b[0m\u001b[0msize\u001b[0m\u001b[1;33m(\u001b[0m\u001b[1;33m)\u001b[0m\u001b[1;33m)\u001b[0m\u001b[1;33m\u001b[0m\u001b[1;33m\u001b[0m\u001b[0m\n\u001b[0m\u001b[0;32m   2148\u001b[0m \u001b[1;33m\u001b[0m\u001b[0m\n\u001b[0;32m   2149\u001b[0m     return torch.batch_norm(\n",
      "\u001b[1;32mc:\\users\\csci-538-hp-z240-lll\\desktop\\unityprojects\\xr-interaction-toolkit-examples\\venv\\lib\\site-packages\\torch\\nn\\functional.py\u001b[0m in \u001b[0;36m_verify_batch_size\u001b[1;34m(size)\u001b[0m\n\u001b[0;32m   2112\u001b[0m         \u001b[0msize_prods\u001b[0m \u001b[1;33m*=\u001b[0m \u001b[0msize\u001b[0m\u001b[1;33m[\u001b[0m\u001b[0mi\u001b[0m \u001b[1;33m+\u001b[0m \u001b[1;36m2\u001b[0m\u001b[1;33m]\u001b[0m\u001b[1;33m\u001b[0m\u001b[1;33m\u001b[0m\u001b[0m\n\u001b[0;32m   2113\u001b[0m     \u001b[1;32mif\u001b[0m \u001b[0msize_prods\u001b[0m \u001b[1;33m==\u001b[0m \u001b[1;36m1\u001b[0m\u001b[1;33m:\u001b[0m\u001b[1;33m\u001b[0m\u001b[1;33m\u001b[0m\u001b[0m\n\u001b[1;32m-> 2114\u001b[1;33m         \u001b[1;32mraise\u001b[0m \u001b[0mValueError\u001b[0m\u001b[1;33m(\u001b[0m\u001b[1;34m\"Expected more than 1 value per channel when training, got input size {}\"\u001b[0m\u001b[1;33m.\u001b[0m\u001b[0mformat\u001b[0m\u001b[1;33m(\u001b[0m\u001b[0msize\u001b[0m\u001b[1;33m)\u001b[0m\u001b[1;33m)\u001b[0m\u001b[1;33m\u001b[0m\u001b[1;33m\u001b[0m\u001b[0m\n\u001b[0m\u001b[0;32m   2115\u001b[0m \u001b[1;33m\u001b[0m\u001b[0m\n\u001b[0;32m   2116\u001b[0m \u001b[1;33m\u001b[0m\u001b[0m\n",
      "\u001b[1;31mValueError\u001b[0m: Expected more than 1 value per channel when training, got input size torch.Size([1, 512])"
     ]
    }
   ],
   "source": [
    "model.forward(dataset[0][0].unsqueeze(0))"
   ]
  },
  {
   "cell_type": "code",
   "execution_count": null,
   "id": "spread-freedom",
   "metadata": {},
   "outputs": [],
   "source": [
    "def train(dataloader, dataset_sizes, model, criterion, optimizer, device, num_epochs, batch_size):\n",
    "    for epoch in range(10):\n",
    "        model.train()\n",
    "        for inputs, labels in dataloader:\n",
    "            with torch."
   ]
  },
  {
   "cell_type": "code",
   "execution_count": null,
   "id": "consistent-ground",
   "metadata": {},
   "outputs": [],
   "source": [
    "w"
   ]
  }
 ],
 "metadata": {
  "kernelspec": {
   "display_name": "Python 3",
   "language": "python",
   "name": "python3"
  },
  "language_info": {
   "codemirror_mode": {
    "name": "ipython",
    "version": 3
   },
   "file_extension": ".py",
   "mimetype": "text/x-python",
   "name": "python",
   "nbconvert_exporter": "python",
   "pygments_lexer": "ipython3",
   "version": "3.8.8"
  }
 },
 "nbformat": 4,
 "nbformat_minor": 5
}
