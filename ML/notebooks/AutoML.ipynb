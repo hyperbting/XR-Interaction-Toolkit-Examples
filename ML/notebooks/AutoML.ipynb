{
 "cells": [
  {
   "cell_type": "code",
   "execution_count": 1,
   "id": "agricultural-croatia",
   "metadata": {},
   "outputs": [
    {
     "name": "stderr",
     "output_type": "stream",
     "text": [
      "/home/adityan/.conda/envs/reorder/lib/python3.7/site-packages/pyparsing.py:3190: FutureWarning: Possible set intersection at position 3\n",
      "  self.re = re.compile(self.reString)\n"
     ]
    }
   ],
   "source": [
    "import sklearn.datasets\n",
    "import sklearn.metrics\n",
    "\n",
    "import autosklearn.regression\n",
    "import numpy as np\n",
    "from tqdm import tqdm"
   ]
  },
  {
   "cell_type": "code",
   "execution_count": 2,
   "id": "unable-desire",
   "metadata": {},
   "outputs": [],
   "source": [
    "import sys\n",
    "sys.path.extend(['../'])\n",
    "from data import CSVDataset"
   ]
  },
  {
   "cell_type": "code",
   "execution_count": 3,
   "id": "continuing-hypothetical",
   "metadata": {},
   "outputs": [],
   "source": [
    "def convert_torch_dataset_to_nparray(dataset):\n",
    "    x_=[]\n",
    "    y_=[]\n",
    "    for i in tqdm(range(len(dataset))):\n",
    "        x_.append(dataset[i][0].detach().cpu().numpy())\n",
    "        y_.append(dataset[i][1].detach().cpu().numpy())\n",
    "    return np.array(x_), np.array(y_)"
   ]
  },
  {
   "cell_type": "code",
   "execution_count": 36,
   "id": "architectural-nebraska",
   "metadata": {},
   "outputs": [
    {
     "name": "stdout",
     "output_type": "stream",
     "text": [
      "SuperhotVR_2_processed.csv\n",
      "Exp0_StandingOnly_2021-02-12-02-22-47.csv\n",
      "BeatSaber_2_processed.csv\n",
      "SuperhotVR_1_processed.csv\n",
      "exp0_2021_02_19_02_12_11_dup_rem.csv\n",
      "Exp0Data2021-01-31-04-32-25.csv\n",
      "Exp0Data2021-02-07-10-55-14.csv\n",
      "Exp0StandingOnly_2021-02-14-04-09-37.csv\n",
      "Exp0_2021-03-18-09-29-07.csv\n",
      "BeatSaber_1_processed.csv\n"
     ]
    },
    {
     "name": "stderr",
     "output_type": "stream",
     "text": [
      "  0%|          | 528/395172 [00:00<01:14, 5264.38it/s]"
     ]
    },
    {
     "name": "stdout",
     "output_type": "stream",
     "text": [
      "(395172, 49)\n",
      "<data.CSVDataset object at 0x7f3ac9bffa10>\n"
     ]
    },
    {
     "name": "stderr",
     "output_type": "stream",
     "text": [
      "100%|██████████| 395172/395172 [01:17<00:00, 5121.62it/s]\n"
     ]
    }
   ],
   "source": [
    "from utils import Config\n",
    "Config['dataset_path']='/home/adityan/Studies/CSCI527/XR-Interaction-Toolkit-Examples/ML/data'\n",
    "Config['data_type']='relative'\n",
    "dataset = CSVDataset(root_path=Config['dataset_path'], output_type=Config['data_type'])\n",
    "print(dataset)\n",
    "x_, y_ =convert_torch_dataset_to_nparray(dataset)"
   ]
  },
  {
   "cell_type": "code",
   "execution_count": 53,
   "id": "eligible-praise",
   "metadata": {},
   "outputs": [],
   "source": [
    "X_train, X_test, y_train, y_test = \\\n",
    "    sklearn.model_selection.train_test_split(x_, y_, random_state=1)"
   ]
  },
  {
   "cell_type": "code",
   "execution_count": 55,
   "id": "quiet-camping",
   "metadata": {},
   "outputs": [
    {
     "name": "stdout",
     "output_type": "stream",
     "text": [
      "[WARNING] [2021-04-04 02:34:32,731:Client-AutoMLSMBO(1)::all_data] Could not find meta-data directory /home/adityan/.conda/envs/reorder/lib/python3.7/site-packages/autosklearn/metalearning/files/r2_multioutput.regression_dense\n"
     ]
    },
    {
     "data": {
      "text/plain": [
       "AutoSklearnRegressor(output_folder='/tmp/autosklearn_regression_example_out_4',\n",
       "                     per_run_time_limit=30, time_left_for_this_task=120,\n",
       "                     tmp_folder='/tmp/autosklearn_regression_example_tmp_4')"
      ]
     },
     "execution_count": 55,
     "metadata": {},
     "output_type": "execute_result"
    }
   ],
   "source": [
    "automl = autosklearn.regression.AutoSklearnRegressor(\n",
    "    time_left_for_this_task=120,\n",
    "    per_run_time_limit=30,\n",
    "    tmp_folder='/tmp/autosklearn_regression_example_tmp_4',\n",
    "    output_folder='/tmp/autosklearn_regression_example_out_4',\n",
    ")\n",
    "automl.fit(X_train, y_train, dataset_name='all_data')"
   ]
  },
  {
   "cell_type": "code",
   "execution_count": 56,
   "id": "senior-transaction",
   "metadata": {},
   "outputs": [
    {
     "name": "stdout",
     "output_type": "stream",
     "text": [
      "R2 score: 0.8439364514196454\n"
     ]
    }
   ],
   "source": [
    "predictions = automl.predict(X_test)\n",
    "print(\"R2 score:\", sklearn.metrics.r2_score(y_test, predictions))"
   ]
  },
  {
   "cell_type": "code",
   "execution_count": 58,
   "id": "popular-webcam",
   "metadata": {},
   "outputs": [],
   "source": [
    "mse = ((predictions - y_test)**2).mean()"
   ]
  },
  {
   "cell_type": "code",
   "execution_count": 59,
   "id": "dated-rotation",
   "metadata": {},
   "outputs": [
    {
     "data": {
      "text/plain": [
       "0.012557113898748213"
      ]
     },
     "execution_count": 59,
     "metadata": {},
     "output_type": "execute_result"
    }
   ],
   "source": [
    "mse"
   ]
  },
  {
   "cell_type": "code",
   "execution_count": 60,
   "id": "fifth-deficit",
   "metadata": {},
   "outputs": [
    {
     "data": {
      "text/plain": [
       "array([[0.9706184 , 0.00121664, 0.47171593, ..., 0.54168206, 0.49407092,\n",
       "        0.99690586],\n",
       "       [0.97066677, 0.00121714, 0.4717528 , ..., 0.5416087 , 0.4937912 ,\n",
       "        0.9969289 ],\n",
       "       [0.9707793 , 0.00121812, 0.47180754, ..., 0.54152817, 0.49345905,\n",
       "        0.9969548 ],\n",
       "       ...,\n",
       "       [0.9719822 , 0.00114677, 0.48576173, ..., 0.51747364, 0.52012134,\n",
       "        0.9823398 ],\n",
       "       [0.9719567 , 0.0011462 , 0.48574093, ..., 0.5175435 , 0.5201455 ,\n",
       "        0.9823282 ],\n",
       "       [0.97193015, 0.00114561, 0.48572993, ..., 0.51755494, 0.5201945 ,\n",
       "        0.982317  ]], dtype=float32)"
      ]
     },
     "execution_count": 60,
     "metadata": {},
     "output_type": "execute_result"
    }
   ],
   "source": [
    "x_"
   ]
  },
  {
   "cell_type": "code",
   "execution_count": 46,
   "id": "olive-nurse",
   "metadata": {},
   "outputs": [
    {
     "data": {
      "text/plain": [
       "tensor([4.7668e-01, 8.3355e-01, 7.1598e-01, 9.9388e-04, 4.6504e-01, 4.4376e-01,\n",
       "        3.6714e-04])"
      ]
     },
     "execution_count": 46,
     "metadata": {},
     "output_type": "execute_result"
    }
   ],
   "source": [
    "dataset[0][1]"
   ]
  },
  {
   "cell_type": "code",
   "execution_count": 48,
   "id": "dress-ministry",
   "metadata": {},
   "outputs": [
    {
     "data": {
      "text/plain": [
       "tensor([4.4968e-01, 8.4070e-01, 7.1164e-01, 9.7776e-04, 3.7952e-01, 4.8740e-01,\n",
       "        9.9323e-01])"
      ]
     },
     "execution_count": 48,
     "metadata": {},
     "output_type": "execute_result"
    }
   ],
   "source": [
    "dataset[1000][1]"
   ]
  },
  {
   "cell_type": "code",
   "execution_count": 63,
   "id": "infinite-neighborhood",
   "metadata": {},
   "outputs": [
    {
     "data": {
      "text/plain": [
       "array([[5.0830245e-01, 8.6902815e-01, 6.8004775e-01, ..., 5.1229805e-01,\n",
       "        7.6142214e-02, 5.3839451e-01],\n",
       "       [4.5234922e-01, 8.2682955e-01, 7.0478505e-01, ..., 4.4078967e-01,\n",
       "        4.5626196e-01, 8.6339837e-04],\n",
       "       [3.6622778e-01, 7.7717721e-01, 7.7395451e-01, ..., 4.7104457e-01,\n",
       "        5.2396029e-01, 9.9670696e-01],\n",
       "       ...,\n",
       "       [4.5107278e-01, 8.4445900e-01, 6.9695789e-01, ..., 4.1984856e-01,\n",
       "        4.6465567e-01, 9.9812889e-01],\n",
       "       [4.5672005e-01, 8.1895685e-01, 7.0693284e-01, ..., 6.1683780e-01,\n",
       "        5.1329452e-01, 9.7702771e-01],\n",
       "       [5.2042919e-01, 8.3864832e-01, 6.9215161e-01, ..., 9.7183812e-01,\n",
       "        4.5019639e-01, 6.5749884e-01]], dtype=float32)"
      ]
     },
     "execution_count": 63,
     "metadata": {},
     "output_type": "execute_result"
    }
   ],
   "source": [
    "y_test"
   ]
  },
  {
   "cell_type": "code",
   "execution_count": 62,
   "id": "national-honey",
   "metadata": {},
   "outputs": [
    {
     "data": {
      "text/plain": [
       "array([[0.50856262, 0.86873138, 0.68003011, ..., 0.51255131, 0.0755787 ,\n",
       "        0.53868949],\n",
       "       [0.45400402, 0.82820433, 0.70348185, ..., 0.43940616, 0.45540595,\n",
       "        0.0339506 ],\n",
       "       [0.34791961, 0.72572738, 0.78185791, ..., 0.40915358, 0.47581449,\n",
       "        0.80048978],\n",
       "       ...,\n",
       "       [0.45423299, 0.84501106, 0.70190465, ..., 0.43740258, 0.47127801,\n",
       "        0.99912602],\n",
       "       [0.47124287, 0.83020526, 0.65926647, ..., 0.23312627, 0.47160539,\n",
       "        0.87036419],\n",
       "       [0.51687229, 0.83439267, 0.68949026, ..., 0.97580492, 0.4505232 ,\n",
       "        0.6364575 ]])"
      ]
     },
     "execution_count": 62,
     "metadata": {},
     "output_type": "execute_result"
    }
   ],
   "source": [
    "predictions"
   ]
  },
  {
   "cell_type": "code",
   "execution_count": 64,
   "id": "designed-celtic",
   "metadata": {},
   "outputs": [
    {
     "name": "stdout",
     "output_type": "stream",
     "text": [
      "[(1.000000, SimpleRegressionPipeline({'data_preprocessing:categorical_transformer:categorical_encoding:__choice__': 'one_hot_encoding', 'data_preprocessing:categorical_transformer:category_coalescence:__choice__': 'minority_coalescer', 'data_preprocessing:numerical_transformer:imputation:strategy': 'most_frequent', 'data_preprocessing:numerical_transformer:rescaling:__choice__': 'standardize', 'feature_preprocessor:__choice__': 'extra_trees_preproc_for_regression', 'regressor:__choice__': 'k_nearest_neighbors', 'data_preprocessing:categorical_transformer:category_coalescence:minority_coalescer:minimum_fraction': 0.07461708512446319, 'feature_preprocessor:extra_trees_preproc_for_regression:bootstrap': 'False', 'feature_preprocessor:extra_trees_preproc_for_regression:criterion': 'friedman_mse', 'feature_preprocessor:extra_trees_preproc_for_regression:max_depth': 'None', 'feature_preprocessor:extra_trees_preproc_for_regression:max_features': 0.11155581450643696, 'feature_preprocessor:extra_trees_preproc_for_regression:max_leaf_nodes': 'None', 'feature_preprocessor:extra_trees_preproc_for_regression:min_samples_leaf': 9, 'feature_preprocessor:extra_trees_preproc_for_regression:min_samples_split': 16, 'feature_preprocessor:extra_trees_preproc_for_regression:min_weight_fraction_leaf': 0.0, 'feature_preprocessor:extra_trees_preproc_for_regression:n_estimators': 100, 'regressor:k_nearest_neighbors:n_neighbors': 10, 'regressor:k_nearest_neighbors:p': 2, 'regressor:k_nearest_neighbors:weights': 'distance'},\n",
      "dataset_properties={\n",
      "  'task': 5,\n",
      "  'sparse': False,\n",
      "  'multioutput': True,\n",
      "  'target_type': 'regression',\n",
      "  'signed': False})),\n",
      "]\n"
     ]
    }
   ],
   "source": [
    "print(automl.show_models())"
   ]
  },
  {
   "cell_type": "code",
   "execution_count": null,
   "id": "regional-commander",
   "metadata": {},
   "outputs": [],
   "source": []
  }
 ],
 "metadata": {
  "kernelspec": {
   "display_name": "Python 3",
   "language": "python",
   "name": "python3"
  },
  "language_info": {
   "codemirror_mode": {
    "name": "ipython",
    "version": 3
   },
   "file_extension": ".py",
   "mimetype": "text/x-python",
   "name": "python",
   "nbconvert_exporter": "python",
   "pygments_lexer": "ipython3",
   "version": "3.7.9"
  }
 },
 "nbformat": 4,
 "nbformat_minor": 5
}
